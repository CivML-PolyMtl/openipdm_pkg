{
 "cells": [
  {
   "cell_type": "code",
   "execution_count": 1,
   "metadata": {},
   "outputs": [
    {
     "data": {
      "text/html": [
       "\n",
       "<div id=\"altair-viz-ea5f8619a7ec46478e096978e89ccc1d\"></div>\n",
       "<script type=\"text/javascript\">\n",
       "  var VEGA_DEBUG = (typeof VEGA_DEBUG == \"undefined\") ? {} : VEGA_DEBUG;\n",
       "  (function(spec, embedOpt){\n",
       "    let outputDiv = document.currentScript.previousElementSibling;\n",
       "    if (outputDiv.id !== \"altair-viz-ea5f8619a7ec46478e096978e89ccc1d\") {\n",
       "      outputDiv = document.getElementById(\"altair-viz-ea5f8619a7ec46478e096978e89ccc1d\");\n",
       "    }\n",
       "    const paths = {\n",
       "      \"vega\": \"https://cdn.jsdelivr.net/npm//vega@5?noext\",\n",
       "      \"vega-lib\": \"https://cdn.jsdelivr.net/npm//vega-lib?noext\",\n",
       "      \"vega-lite\": \"https://cdn.jsdelivr.net/npm//vega-lite@4.17.0?noext\",\n",
       "      \"vega-embed\": \"https://cdn.jsdelivr.net/npm//vega-embed@6?noext\",\n",
       "    };\n",
       "\n",
       "    function maybeLoadScript(lib, version) {\n",
       "      var key = `${lib.replace(\"-\", \"\")}_version`;\n",
       "      return (VEGA_DEBUG[key] == version) ?\n",
       "        Promise.resolve(paths[lib]) :\n",
       "        new Promise(function(resolve, reject) {\n",
       "          var s = document.createElement('script');\n",
       "          document.getElementsByTagName(\"head\")[0].appendChild(s);\n",
       "          s.async = true;\n",
       "          s.onload = () => {\n",
       "            VEGA_DEBUG[key] = version;\n",
       "            return resolve(paths[lib]);\n",
       "          };\n",
       "          s.onerror = () => reject(`Error loading script: ${paths[lib]}`);\n",
       "          s.src = paths[lib];\n",
       "        });\n",
       "    }\n",
       "\n",
       "    function showError(err) {\n",
       "      outputDiv.innerHTML = `<div class=\"error\" style=\"color:red;\">${err}</div>`;\n",
       "      throw err;\n",
       "    }\n",
       "\n",
       "    function displayChart(vegaEmbed) {\n",
       "      vegaEmbed(outputDiv, spec, embedOpt)\n",
       "        .catch(err => showError(`Javascript Error: ${err.message}<br>This usually means there's a typo in your chart specification. See the javascript console for the full traceback.`));\n",
       "    }\n",
       "\n",
       "    if(typeof define === \"function\" && define.amd) {\n",
       "      requirejs.config({paths});\n",
       "      require([\"vega-embed\"], displayChart, err => showError(`Error loading script: ${err.message}`));\n",
       "    } else {\n",
       "      maybeLoadScript(\"vega\", \"5\")\n",
       "        .then(() => maybeLoadScript(\"vega-lite\", \"4.17.0\"))\n",
       "        .then(() => maybeLoadScript(\"vega-embed\", \"6\"))\n",
       "        .catch(showError)\n",
       "        .then(() => displayChart(vegaEmbed));\n",
       "    }\n",
       "  })({\"config\": {\"view\": {\"continuousWidth\": 400, \"continuousHeight\": 300}}, \"hconcat\": [{\"layer\": [{\"mark\": {\"type\": \"area\", \"color\": \"red\", \"opacity\": 0.4}, \"encoding\": {\"y\": {\"field\": \"std_2n\", \"type\": \"quantitative\"}, \"y2\": {\"field\": \"std_2p\"}}}, {\"mark\": {\"type\": \"area\", \"color\": \"white\", \"opacity\": 0.5}, \"encoding\": {\"y\": {\"field\": \"std_1n\", \"type\": \"quantitative\"}, \"y2\": {\"field\": \"std_1p\"}}}, {\"mark\": {\"type\": \"line\", \"color\": \"white\", \"strokeDash\": [5, 1], \"strokeWidth\": 1}, \"encoding\": {\"y\": {\"field\": \"Condition\", \"scale\": {\"zero\": false}, \"title\": \"Condition\", \"type\": \"quantitative\"}}}, {\"mark\": {\"type\": \"point\", \"color\": \"red\"}, \"encoding\": {\"y\": {\"field\": \"Inspections\", \"type\": \"quantitative\"}}}, {\"mark\": {\"type\": \"point\", \"color\": \"purple\"}, \"encoding\": {\"y\": {\"field\": \"Inspections_corrected\", \"type\": \"quantitative\"}}}, {\"mark\": {\"type\": \"errorbar\", \"color\": \"blue\", \"ticks\": true}, \"encoding\": {\"y\": {\"field\": \"r_under\", \"scale\": {\"zero\": false}, \"title\": \"Condition\", \"type\": \"quantitative\"}, \"y2\": {\"field\": \"r_above\"}}}], \"data\": {\"name\": \"data-c7cdd46a2dd8ab1b07d95a293f38285f\"}, \"encoding\": {\"x\": {\"field\": \"Years\", \"title\": \"Time (Year)\", \"type\": \"nominal\"}}, \"height\": 400, \"width\": 400}, {\"layer\": [{\"mark\": {\"type\": \"area\", \"color\": \"red\", \"opacity\": 0.4}, \"encoding\": {\"y\": {\"field\": \"std_2n\", \"type\": \"quantitative\"}, \"y2\": {\"field\": \"std_2p\"}}}, {\"mark\": {\"type\": \"area\", \"color\": \"white\", \"opacity\": 0.5}, \"encoding\": {\"y\": {\"field\": \"std_1n\", \"type\": \"quantitative\"}, \"y2\": {\"field\": \"std_1p\"}}}, {\"mark\": {\"type\": \"line\", \"color\": \"white\", \"strokeDash\": [5, 1]}, \"encoding\": {\"y\": {\"field\": \"Speed\", \"title\": \"Speed\", \"type\": \"quantitative\"}}}], \"data\": {\"name\": \"data-1a0a2013795bdfc921d2388de650199e\"}, \"encoding\": {\"x\": {\"field\": \"Years\", \"title\": \"Time (Year)\", \"type\": \"nominal\"}}, \"height\": 400, \"width\": 200}], \"$schema\": \"https://vega.github.io/schema/vega-lite/v4.17.0.json\", \"datasets\": {\"data-c7cdd46a2dd8ab1b07d95a293f38285f\": [{\"Condition\": 87.77, \"Years\": 2016.0, \"Inspections\": null, \"Inspections_corrected\": null, \"r_above\": null, \"r_under\": null, \"std_1p\": 88.76, \"std_1n\": 86.77, \"std_2p\": 89.76, \"std_2n\": 85.78}, {\"Condition\": 87.22, \"Years\": 2017.0, \"Inspections\": 88.18, \"Inspections_corrected\": 88.18, \"r_above\": 92.07, \"r_under\": 84.27, \"std_1p\": 88.17, \"std_1n\": 86.28, \"std_2p\": 89.11, \"std_2n\": 85.34}, {\"Condition\": 86.68, \"Years\": 2018.0, \"Inspections\": null, \"Inspections_corrected\": null, \"r_above\": null, \"r_under\": null, \"std_1p\": 87.59, \"std_1n\": 85.77, \"std_2p\": 88.49, \"std_2n\": 84.86}, {\"Condition\": 86.14, \"Years\": 2019.0, \"Inspections\": 85.73, \"Inspections_corrected\": 85.73, \"r_above\": 89.64, \"r_under\": 81.82, \"std_1p\": 87.03, \"std_1n\": 85.24, \"std_2p\": 87.92, \"std_2n\": 84.35}, {\"Condition\": 85.59, \"Years\": 2020.0, \"Inspections\": null, \"Inspections_corrected\": null, \"r_above\": null, \"r_under\": null, \"std_1p\": 86.5, \"std_1n\": 84.69, \"std_2p\": 87.4, \"std_2n\": 83.79}, {\"Condition\": 85.05, \"Years\": 2021.0, \"Inspections\": 84.51, \"Inspections_corrected\": 84.51, \"r_above\": 88.42, \"r_under\": 80.6, \"std_1p\": 85.99, \"std_1n\": 84.11, \"std_2p\": 86.92, \"std_2n\": 83.17}, {\"Condition\": 84.51, \"Years\": 2022.0, \"Inspections\": null, \"Inspections_corrected\": null, \"r_above\": null, \"r_under\": null, \"std_1p\": 85.5, \"std_1n\": 83.51, \"std_2p\": 86.5, \"std_2n\": 82.51}, {\"Condition\": 83.96, \"Years\": 2023.0, \"Inspections\": 84.51, \"Inspections_corrected\": 84.51, \"r_above\": 88.42, \"r_under\": 80.6, \"std_1p\": 85.04, \"std_1n\": 82.88, \"std_2p\": 86.12, \"std_2n\": 81.8}, {\"Condition\": 83.42, \"Years\": 2024.0, \"Inspections\": null, \"Inspections_corrected\": null, \"r_above\": null, \"r_under\": null, \"std_1p\": 84.61, \"std_1n\": 82.23, \"std_2p\": 85.8, \"std_2n\": 81.05}, {\"Condition\": 82.88, \"Years\": 2025.0, \"Inspections\": null, \"Inspections_corrected\": null, \"r_above\": null, \"r_under\": null, \"std_1p\": 84.2, \"std_1n\": 81.56, \"std_2p\": 85.51, \"std_2n\": 80.25}, {\"Condition\": 82.34, \"Years\": 2026.0, \"Inspections\": null, \"Inspections_corrected\": null, \"r_above\": null, \"r_under\": null, \"std_1p\": 83.8, \"std_1n\": 80.87, \"std_2p\": 85.27, \"std_2n\": 79.41}, {\"Condition\": 81.8, \"Years\": 2027.0, \"Inspections\": null, \"Inspections_corrected\": null, \"r_above\": null, \"r_under\": null, \"std_1p\": 83.43, \"std_1n\": 80.16, \"std_2p\": 85.07, \"std_2n\": 78.53}, {\"Condition\": 81.26, \"Years\": 2028.0, \"Inspections\": null, \"Inspections_corrected\": null, \"r_above\": null, \"r_under\": null, \"std_1p\": 83.08, \"std_1n\": 79.43, \"std_2p\": 84.91, \"std_2n\": 77.61}], \"data-1a0a2013795bdfc921d2388de650199e\": [{\"Speed\": -0.5753, \"Years\": 2016.0, \"std_1p\": -0.4267, \"std_1n\": -0.724, \"std_2p\": -0.278, \"std_2n\": -0.8726}, {\"Speed\": -0.5752, \"Years\": 2017.0, \"std_1p\": -0.4253, \"std_1n\": -0.725, \"std_2p\": -0.2754, \"std_2n\": -0.8749}, {\"Speed\": -0.575, \"Years\": 2018.0, \"std_1p\": -0.4227, \"std_1n\": -0.7272, \"std_2p\": -0.2705, \"std_2n\": -0.8794}, {\"Speed\": -0.5747, \"Years\": 2019.0, \"std_1p\": -0.4188, \"std_1n\": -0.7305, \"std_2p\": -0.2629, \"std_2n\": -0.8864}, {\"Speed\": -0.5743, \"Years\": 2020.0, \"std_1p\": -0.4133, \"std_1n\": -0.7353, \"std_2p\": -0.2524, \"std_2n\": -0.8963}, {\"Speed\": -0.5739, \"Years\": 2021.0, \"std_1p\": -0.4063, \"std_1n\": -0.7415, \"std_2p\": -0.2388, \"std_2n\": -0.9091}, {\"Speed\": -0.5735, \"Years\": 2022.0, \"std_1p\": -0.3978, \"std_1n\": -0.7492, \"std_2p\": -0.2221, \"std_2n\": -0.9249}, {\"Speed\": -0.5731, \"Years\": 2023.0, \"std_1p\": -0.3877, \"std_1n\": -0.7584, \"std_2p\": -0.2024, \"std_2n\": -0.9438}, {\"Speed\": -0.5727, \"Years\": 2024.0, \"std_1p\": -0.3762, \"std_1n\": -0.7691, \"std_2p\": -0.1797, \"std_2n\": -0.9656}, {\"Speed\": -0.5722, \"Years\": 2025.0, \"std_1p\": -0.3633, \"std_1n\": -0.7811, \"std_2p\": -0.1544, \"std_2n\": -0.9901}, {\"Speed\": -0.5718, \"Years\": 2026.0, \"std_1p\": -0.3491, \"std_1n\": -0.7945, \"std_2p\": -0.1264, \"std_2n\": -1.0171}, {\"Speed\": -0.5713, \"Years\": 2027.0, \"std_1p\": -0.3337, \"std_1n\": -0.809, \"std_2p\": -0.0961, \"std_2n\": -1.0466}, {\"Speed\": -0.5709, \"Years\": 2028.0, \"std_1p\": -0.3172, \"std_1n\": -0.8246, \"std_2p\": -0.0636, \"std_2n\": -1.0782}]}}, {\"mode\": \"vega-lite\"});\n",
       "</script>"
      ],
      "text/plain": [
       "alt.HConcatChart(...)"
      ]
     },
     "execution_count": 1,
     "metadata": {},
     "output_type": "execute_result"
    }
   ],
   "source": [
    "from openipdm.ssm_kr import SSM_KR\n",
    "import numpy as np\n",
    "# create an instance of the model\n",
    "det_model = SSM_KR()\n",
    "\n",
    "# define inspectors errors (ID, bias, standard deviation)\n",
    "inspector_std= np.array([[ 0. ,  0. ,  2. ],\n",
    "                        [ 1. ,  0. ,  4. ],\n",
    "                        [ 2. ,  3. ,  4. ],\n",
    "                        [ 3. , -3. ,  4. ],\n",
    "                        [ 4. ,  3. ,  1.5],\n",
    "                        [ 5. , -3. ,  1.5]])\n",
    "\n",
    "# define the actions (0: do nothing, 1: perventive maintenance, 2: routine maintenance, 3: repairs, 4: replace)\n",
    "actions = np.array([0, 0, 0, 0, 0, 0, 0, 0, 0, 0, 0, 0, 0], dtype=np.int32)\n",
    "\n",
    "# define which inspeptors performed the inspection over time\n",
    "inspectors = np.array([0, 0, 0, 0, 0, 0, 0, 0, 0, 0, 0, 0, 0], dtype=np.int32)\n",
    "\n",
    "# define the total number of years\n",
    "total_years = np.array([2016, 2017, 2018, 2019, 2020, 2021, 2022, 2023, 2024, 2025, 2026, 2027, 2028])\n",
    "\n",
    "# define the inspections performed over time\n",
    "y = np.array([[  np.nan, 88.75,   np.nan, 86.25,   np.nan, 85.  ,   np.nan, 85.  ,   np.nan,\n",
    "                    np.nan,   np.nan,   np.nan,   np.nan]])\n",
    "\n",
    "# run the model\n",
    "df_cond, df_speed = det_model.ssm_kr_predict(y=y, total_years=total_years, inspector_std=inspector_std, inspector=inspectors, Actions=actions)\n",
    "\n",
    "# plot the results\n",
    "plot_alt = det_model.plot_results(df_cond, df_speed)\n",
    "\n",
    "plot_alt\n"
   ]
  }
 ],
 "metadata": {
  "kernelspec": {
   "display_name": ".venv_test",
   "language": "python",
   "name": "python3"
  },
  "language_info": {
   "codemirror_mode": {
    "name": "ipython",
    "version": 3
   },
   "file_extension": ".py",
   "mimetype": "text/x-python",
   "name": "python",
   "nbconvert_exporter": "python",
   "pygments_lexer": "ipython3",
   "version": "3.9.6"
  },
  "orig_nbformat": 4
 },
 "nbformat": 4,
 "nbformat_minor": 2
}
